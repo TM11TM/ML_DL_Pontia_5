{
 "cells": [
  {
   "cell_type": "markdown",
   "id": "631ab18d-a536-447e-9354-3a67cf5d5a89",
   "metadata": {},
   "source": [
    "Objetivo\n",
    "El objetivo de la clase es poder profundizar en la práctica de los modelos de algoritmos supervisados clásicos de ML dentro de la regresión y la clasificación.\n",
    "\n",
    "✅Requisitos mínimos\n",
    "\n",
    "Problema de clasificación binaria ○ Dataset real proporcionado en el apartado previo, con una variable objetivo binaria 0 o 1. ○ Justificación del problema y del conjunto de datos. 4 Guión entrega final\n",
    "Modelos a implementar y comparar Se deben entrenar al menos los siguientes algoritmos, además de otros que puedan ser de interés: ○ Regresión logística ○ Árbol de decisión ○ Random Forest ○ Gradient Boosting XGBoost, LightGBM o CatBoost) ○ Red neuronal multicapa usando Keras\n",
    "Evaluación de modelos ○ Utilizar al menos una de las siguientes métricas como principal: accuracy, precision, recall, F1-score, AUCROC. ○ Se debe justificar el por qué se ha elegido dicha métrica como principal. ○ Mostrar: matriz de confusión y curva ROC.\n",
    "Automatización del flujo ○ Implementar un pipeline estructurado para: carga de datos, preprocesamiento, entrenamiento, evaluación, y selección del mejor modelo. 📁Entregables obligatorios Cada pareja deberá entregar el siguiente material para la correcta evaluación del proyecto así como la documentación correspondiente: ● 🔗Repositorio de código (GitHub o similar): ○ Código bien estructurado. ○ Documentación completa en README con: ■ Autores de la práctica ■ Descripción del problema y datos\n",
    "■ Instrucciones para ejecutar el proyecto ■ Resultados y conclusiones ○ Archivos auxiliares: ■ .gitignore adecuado ■ requirements.txt con todas las dependencias ● 📄Informe final en PDF o Markdown: ○ Definición de los roles de la pareja (quién hace qué) ○ Justificación del problema ○ Análisis exploratorio de datos ○ Diseño del sistema ○ Resultados y elección final ○ Reflexión crítica sobre limitaciones y mejoras"
   ]
  }
 ],
 "metadata": {
  "kernelspec": {
   "display_name": "env-pontia-ml",
   "language": "python",
   "name": "env-pontia-ml"
  },
  "language_info": {
   "codemirror_mode": {
    "name": "ipython",
    "version": 3
   },
   "file_extension": ".py",
   "mimetype": "text/x-python",
   "name": "python",
   "nbconvert_exporter": "python",
   "pygments_lexer": "ipython3",
   "version": "3.11.13"
  }
 },
 "nbformat": 4,
 "nbformat_minor": 5
}
