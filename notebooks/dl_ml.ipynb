{
 "cells": [
  {
   "cell_type": "markdown",
   "id": "631ab18d-a536-447e-9354-3a67cf5d5a89",
   "metadata": {},
   "source": [
    "# Entrega Final\n",
    "---"
   ]
  },
  {
   "cell_type": "markdown",
   "id": "65f24c7c-6b1b-43db-8fe0-96c2f5958b4a",
   "metadata": {},
   "source": [
    "- **Autores**: Amalia Martín y Carlos Toro"
   ]
  },
  {
   "cell_type": "markdown",
   "id": "63d33ffb-9c49-4564-bff6-460548fc2529",
   "metadata": {},
   "source": [
    "## Objetivos\n",
    "\n",
    "El objetivo de esta practica es implementar todo lo aprendido a lo largo de este módulo, para ello necesitaremos diseñar e implementar un sistema automático que:\n",
    "- Entrene, evalúe y compare distintos modelos de clasificación binaria\n",
    "- Seleccione el mejor modelo según una métrica principal, además de ofrecer una visión de\n",
    "  otras secundarias.\n",
    "- Automatice el flujo completo desde los datos hasta la inferencia.\n"
   ]
  },
  {
   "cell_type": "code",
   "execution_count": null,
   "id": "82b85c87-bf93-4bc3-988a-ad89b03d2cb9",
   "metadata": {},
   "outputs": [],
   "source": []
  }
 ],
 "metadata": {
  "kernelspec": {
   "display_name": "env-pontia-ml",
   "language": "python",
   "name": "env-pontia-ml"
  },
  "language_info": {
   "codemirror_mode": {
    "name": "ipython",
    "version": 3
   },
   "file_extension": ".py",
   "mimetype": "text/x-python",
   "name": "python",
   "nbconvert_exporter": "python",
   "pygments_lexer": "ipython3",
   "version": "3.11.13"
  }
 },
 "nbformat": 4,
 "nbformat_minor": 5
}
