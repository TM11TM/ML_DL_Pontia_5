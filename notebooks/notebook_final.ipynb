{
 "cells": [
  {
   "cell_type": "markdown",
   "id": "43aa7c37",
   "metadata": {},
   "source": [
    "# Entrega Final: Amalia Martín y Carlos Toro\n",
    "---"
   ]
  },
  {
   "cell_type": "markdown",
   "id": "67cf100e-85b2-4e21-a2e9-72b3eaa68250",
   "metadata": {
    "vscode": {
     "languageId": "plaintext"
    }
   },
   "source": [
    "## ✅Requisitos mínimos\n",
    "1. Problema de clasificación binaria:\n",
    "    ○ Dataset real proporcionado en el apartado previo, con una variable objetivo binaria\n",
    "      0 o 1.\n",
    "    ○ Justificación del problema y del conjunto de datos.\n",
    "2. Modelos a implementar y comparar\n",
    "Se deben entrenar al menos los siguientes algoritmos, además de otros que puedan ser\n",
    "de interés:\n",
    "    ○ Regresión logística\n",
    "    ○ Árbol de decisión\n",
    "    ○ Random Forest\n",
    "    ○ Gradient Boosting XGBoost, LightGBM o CatBoost)\n",
    "    ○ Red neuronal multicapa usando Keras\n",
    "3. Evaluación de modelos\n",
    "    ○ Utilizar al menos una de las siguientes métricas como principal: accuracy,\n",
    "    precision, recall, F1-score, AUCROC.\n",
    "    ○ Se debe justificar el por qué se ha elegido dicha métrica como principal.\n",
    "    ○ Mostrar: matriz de confusión y curva ROC.\n",
    "4. Automatización del flujo\n",
    "    ○ Implementar un pipeline estructurado para: carga de datos, preprocesamiento,\n",
    "    entrenamiento, evaluación, y selección del mejor modelo.\n",
    "\n",
    "📁Entregables obligatorios\n",
    "\n",
    "Cada pareja deberá entregar el siguiente material para la correcta evaluación del proyecto así\n",
    "como la documentación correspondiente:\n",
    "\n",
    "● 🔗Repositorio de código (GitHub o similar):\n",
    "   ○ Código bien estructurado.\n",
    "   ○ Documentación completa en README con:\n",
    "        ■ Autores de la práctica\n",
    "        ■ Descripción del problema y datos\n",
    "        ■ Instrucciones para ejecutar el proyecto\n",
    "        ■ Resultados y conclusiones\n",
    "   ○ Archivos auxiliares:\n",
    "        ■ .gitignore adecuado\n",
    "        ■ requirements.txt con todas las dependencias\n",
    "\n",
    "● 📄Informe final en PDF o Markdown:\n",
    "    ○ Definición de los roles de la pareja (quién hace qué)\n",
    "    ○ Justificación del problema\n",
    "    ○ Análisis exploratorio de datos\n",
    "    ○ Diseño del sistema\n",
    "    ○ Resultados y elección final\n",
    "    ○ Reflexión crítica sobre limitaciones y mejoras\n"
   ]
  }
 ],
 "metadata": {
  "kernelspec": {
   "display_name": "env-pontia-ml",
   "language": "python",
   "name": "env-pontia-ml"
  },
  "language_info": {
   "codemirror_mode": {
    "name": "ipython",
    "version": 3
   },
   "file_extension": ".py",
   "mimetype": "text/x-python",
   "name": "python",
   "nbconvert_exporter": "python",
   "pygments_lexer": "ipython3",
   "version": "3.11.13"
  }
 },
 "nbformat": 4,
 "nbformat_minor": 5
}
